{
 "cells": [
  {
   "cell_type": "markdown",
   "metadata": {},
   "source": [
    "# Enums 101"
   ]
  },
  {
   "cell_type": "code",
   "execution_count": 50,
   "metadata": {},
   "outputs": [],
   "source": [
    "from enum import IntEnum, Enum\n",
    "\n",
    "\n",
    "class Foo(IntEnum):\n",
    "    foo = 1\n",
    "    bar = 2\n",
    "    baz = 3\n",
    "    \n",
    "    @staticmethod\n",
    "    def get(value):\n",
    "         return [x for x in Foo if x.value == value][0]\n",
    "        \n",
    "class Bar(Enum):\n",
    "    foo = 1\n"
   ]
  },
  {
   "cell_type": "code",
   "execution_count": 51,
   "metadata": {},
   "outputs": [
    {
     "name": "stdout",
     "output_type": "stream",
     "text": [
      "<Foo.foo: 1>\n",
      "<Bar.foo: 1>\n",
      "Foo.foo\n",
      "Bar.foo\n"
     ]
    }
   ],
   "source": [
    "print(repr(Foo.foo))\n",
    "print(repr(Bar.foo))\n",
    "print(str(Foo.foo))\n",
    "print(str(Bar.foo))"
   ]
  },
  {
   "cell_type": "markdown",
   "metadata": {},
   "source": [
    "## Turning int's into Foo's"
   ]
  },
  {
   "cell_type": "code",
   "execution_count": 52,
   "metadata": {},
   "outputs": [
    {
     "name": "stdout",
     "output_type": "stream",
     "text": [
      "1 Foo.foo\n",
      "2 Foo.bar\n"
     ]
    }
   ],
   "source": [
    "a = Foo(1)\n",
    "b = Foo.get(2)\n",
    "print('1', a)\n",
    "print('2', b)"
   ]
  },
  {
   "cell_type": "markdown",
   "metadata": {},
   "source": [
    "__Everything works as expected__\n",
    "\n",
    "## Invalid values"
   ]
  },
  {
   "cell_type": "code",
   "execution_count": 53,
   "metadata": {},
   "outputs": [
    {
     "name": "stdout",
     "output_type": "stream",
     "text": [
      "42 is not a valid Foo\n"
     ]
    }
   ],
   "source": [
    "try:\n",
    "    Foo(42)\n",
    "except ValueError as e:\n",
    "    print(e)"
   ]
  },
  {
   "cell_type": "markdown",
   "metadata": {},
   "source": [
    "__`Foo(42)` raises ValueError with info about the invalid value passed__"
   ]
  },
  {
   "cell_type": "code",
   "execution_count": 54,
   "metadata": {},
   "outputs": [
    {
     "name": "stdout",
     "output_type": "stream",
     "text": [
      "list index out of range\n"
     ]
    }
   ],
   "source": [
    "try:\n",
    "    Foo.get(42)\n",
    "except IndexError as e:\n",
    "    print(e)"
   ]
  },
  {
   "cell_type": "markdown",
   "metadata": {},
   "source": [
    "__`Foo.get(42)` raises IndexError because we try to take the first value of an empty list__"
   ]
  },
  {
   "cell_type": "markdown",
   "metadata": {},
   "source": [
    "## Comparision"
   ]
  },
  {
   "cell_type": "code",
   "execution_count": 55,
   "metadata": {},
   "outputs": [
    {
     "name": "stdout",
     "output_type": "stream",
     "text": [
      "3 True\n",
      "4 False\n",
      "5 True\n",
      "6 '>' not supported between instances of 'Foo' and 'str'\n"
     ]
    }
   ],
   "source": [
    "print('3', a < b)\n",
    "print('4', a > b)\n",
    "print('5', a < 42)\n",
    "try:\n",
    "    a > \"asdasdas\"\n",
    "except TypeError as e:\n",
    "    print('6', e)"
   ]
  }
 ],
 "metadata": {
  "kernelspec": {
   "display_name": "Python 3",
   "language": "python",
   "name": "python3"
  },
  "language_info": {
   "codemirror_mode": {
    "name": "ipython",
    "version": 3
   },
   "file_extension": ".py",
   "mimetype": "text/x-python",
   "name": "python",
   "nbconvert_exporter": "python",
   "pygments_lexer": "ipython3",
   "version": "3.6.6"
  }
 },
 "nbformat": 4,
 "nbformat_minor": 2
}
